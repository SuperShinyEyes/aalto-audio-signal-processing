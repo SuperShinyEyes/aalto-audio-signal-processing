{
 "cells": [
  {
   "cell_type": "markdown",
   "metadata": {},
   "source": [
    "# Analysis of Audio Signals\n",
    "\n",
    "## Signal analysis tasks & applications\n",
    "\n",
    "- Tasks:\n",
    "    - Feature analysis of audio signals\n",
    "    - Model parameter estimation for sound synthesis/coding\n",
    "    - Signal/noise detection\n",
    "    - Source separation\n",
    "    - Automatic transcription\n",
    "- Many current and future applications:\n",
    "    - Pitch correction\n",
    "    - Audio restoration\n",
    "    - Noise reduction\n",
    "    - Automatic classification of audio(e.g.music/speech/commercial/silence) \n",
    "    - Music understanding systems\n",
    "        - Recognition of musical piece, style, composer, performer etc."
   ]
  },
  {
   "cell_type": "markdown",
   "metadata": {},
   "source": [
    "## Different forms for analysis\n",
    "\n",
    "### Waveform\n",
    "It is the lowest level signal representation. You can see:\n",
    "- Attack time and other temporal features of simple signals\n",
    "- Temporal envelope, decay rate, periodicity, smoothness?\n",
    "\n",
    "### Spectrum\n",
    "- Human hearing works as a spectral analyzer\n",
    "- For single tones, a one-shot spectrum is useful. You can compute FFT of the whole signal.\n",
    "- With spectrum, you can see:\n",
    "    - Partials as peaks\n",
    "    - Harmonicity / inharmonicity\n",
    "    - Fundamental frequency?\n",
    "    - Noise content"
   ]
  },
  {
   "cell_type": "markdown",
   "metadata": {},
   "source": [
    "## DFT and FFT\n",
    "With FFT, number of multiplications is $O(N\\log N$) instead of $O(N^2)$; e.g. For a 1024-point DFT, the speedup factor is about 100\n",
    "\n",
    "Both DFT and FFT has common issues: \n",
    "- No temporal information\n",
    "    - Signal onsets/offsets cause smearing\n",
    "- Shape depends on frequency \n",
    "    - Wide main lobe\n",
    "    - Confusing side lobes\n",
    "    - Spectral leakage\n",
    "- Rounding errors look like additional noise"
   ]
  },
  {
   "cell_type": "markdown",
   "metadata": {},
   "source": [
    "### Spectral Leakage\n",
    "This phenomenon is caused when applying Fourier Transform on a discontinuous segment which we treat as periodic. One can apply different windows, such as hamming, hanning, black man or kaiser, to \"fix\" leakage. As a side-effect, windowing generally reduces the energy."
   ]
  },
  {
   "cell_type": "markdown",
   "metadata": {},
   "source": [
    "## STFT\n",
    "A sequence of FFTs for both time- and frequency-domain."
   ]
  },
  {
   "cell_type": "markdown",
   "metadata": {},
   "source": [
    "## Features of Audio Signals\n",
    "- Duration\n",
    "- Loudness\n",
    "- Pitch\n",
    "- Timbre\n",
    "\n",
    "## Loudness Estimation\n",
    "- Running RMS value\n",
    "    - Time-varying estimate proportional to instantaneous signal power\n",
    "- Convert to decibels\n",
    "    - 20log[y(n)]\n",
    "    - Human sensitivity to loudness follows approximately logarithmic relation\n",
    "- An auditory model of loudness perception is needed in principle\n",
    "    - Should account for frequency-dependent sensitivity of human hearing\n",
    "    - For example brightness affects loudness perception\n",
    "- Recent recommendation is RLB(Revised Low-Frequency B Weighting)\n",
    "\n",
    "![rlb](images/rlb.png)\n",
    "![rlb_2](images/rlb_2.png)"
   ]
  },
  {
   "cell_type": "markdown",
   "metadata": {},
   "source": [
    "## Pitch\n",
    "- Pitch is the perceived fundamental frequency\n",
    "    - F0 is a physical quantity - pitch is a subjective attribute\n",
    "    - Pitch is thefrequency that humans would sing, hum, whistle when asked about the height of a musical tone\n",
    "    - Alternatively, test subject can adjust the frequency of a sine wave to match a test tone\n",
    "- For sine waves: pitch = F0\n",
    "- Humans perceive pitch clearly for very complex tones\n",
    "    - Pitch of complex harmonic and even in harmonic tones(e.g.,bells)\n",
    "    - Also ”missing fundamental” is strongly perceived(e.g.,on the phone) \n",
    "    - The auditory system tries to assign a pitch to all sounds\n",
    "    \n",
    "### Pitch Extraction\n",
    "- Pitch estimation methods were first developed for speech \n",
    "    - Today hundreds of estimation methods available\n",
    "- Methods can be classified into two classes\n",
    "    - 1)Time-domain methods: periodicity,T \n",
    "    - 2)Frequency-domain methods: fundamental frequency, F0\n",
    "- Problematic algorithms\n",
    "    - Large errors are usually octave errors(one octave up or down) \n",
    "    - Pre- or post-processing may reduce errors\n",
    "        - For example, compression or spectral whitening of input signal, median filtering of a sequence of F0 estimates\n",
    "- The newest ’good’ method is YIN"
   ]
  }
 ],
 "metadata": {
  "kernelspec": {
   "display_name": "Python 3",
   "language": "python",
   "name": "python3"
  },
  "language_info": {
   "codemirror_mode": {
    "name": "ipython",
    "version": 3
   },
   "file_extension": ".py",
   "mimetype": "text/x-python",
   "name": "python",
   "nbconvert_exporter": "python",
   "pygments_lexer": "ipython3",
   "version": "3.7.2"
  }
 },
 "nbformat": 4,
 "nbformat_minor": 2
}
