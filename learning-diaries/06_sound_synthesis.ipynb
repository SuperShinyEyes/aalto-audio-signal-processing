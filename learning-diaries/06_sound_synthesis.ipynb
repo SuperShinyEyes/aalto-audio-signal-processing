{
 "cells": [
  {
   "cell_type": "markdown",
   "metadata": {},
   "source": [
    "# Sound Synthesis\n",
    "\n",
    "Linear vs. Nonlinear\n",
    "\n",
    "## Additive synthesis\n",
    "- As known as Fourier synthesis or sinusoidal modeling. \n",
    "- Each partial is generated separately\n",
    "- Accurate control but lots of data\n",
    "\n",
    "## Subtractive synthesis\n",
    "- Initiazted by Bob Mood in the 1960s.\n",
    "- Moog made instruments with traditional keyboard interfaces so musicians feel familiar to the devices\n",
    "\n",
    "In a nutshell, subtractive synthesis is based on the source-filter model; it starts with a signal that has a rich frequency spectrum and the signal is precessed using a filter.\n",
    "\n",
    "![analog_subtractive_synthesizer](images/analog_subtractive_synthesizer.png)\n",
    "< A block diagram of an actual analog subtractive synthesizer >"
   ]
  },
  {
   "cell_type": "markdown",
   "metadata": {},
   "source": [
    "### Implementing subtractive synthesis\n",
    "\n",
    "![subtractive_synthesizer_architecture](images/subtractive_synthesizer_architecture.png)\n",
    "< Example architecture of a subtractive synthesizer >\n",
    "\n",
    "- One or more oscillators typically used as the source\n",
    "- Second- or fourth-order resonant lowpass filters typically used\n",
    "- Envelope generators(ADSR) used for modulation\n",
    "\n",
    "![envelope](images/envelope.png)\n",
    "< Envelope generators in subtractive synthesis >\n",
    "\n",
    "### Oscillators in subtractive synthesis\n",
    "![oscillators](images/oscillators.png)\n",
    "\n",
    "- Periodic geometric waveforms are at the heart of subtractive synthesis\n",
    "- These waveforms are harmonically rich\n",
    "- Might contain all or only even harmonics\n",
    "- Digital emulation of these waveforms **must suppress aliasing**\n",
    "\n"
   ]
  },
  {
   "cell_type": "markdown",
   "metadata": {},
   "source": [
    "## Virtual Analog(VA)\n",
    "Emulation of analog audio circuits in the digital domain.\n",
    "\n",
    "Inherently VA oscillator waveforms have aliasing. Here's the rationale:\n",
    "\n",
    "- Periodic geometric waveforms contain **infinite harmonics**\n",
    "- Sampling theorem tells us sammling rate must be at least twice the highest frequency component\n",
    "- Highest frequency component is **infinite**\n",
    "- No sample rate will ever be high enough\n",
    "- Synthesizing geometric waveforms **trivially** is equivalent to sampling a waveform with infinite frequency content.\n",
    "\n",
    "There has been efforts to solve aliasing in VA:\n",
    "\n",
    "- Bandlimited synthesis methods\n",
    "    - Additive synthesis and its variations\n",
    "- Quasi-bandlimited synthesis methods\n",
    "    - Blit: bandlimited impulse train + filtering\n",
    "    - MinBLEP: Minimum-phase bandlimited step\n",
    "    - PolyBLEP: Polynomial bandlimited step\n",
    "- Alias-suppressing synthesis methods\n",
    "    - oversampling\n",
    "    - DPW: Differentiated parabolic waveform\n",
    "- Post-processing synthesis suppression methods\n",
    "    - Aliasing suppression via filtering\n",
    "    \n",
    "### DPW\n",
    "Motivation: If aliasing is attenuated sufficiently, its effects can be neglected. Algorithm is extremely siple to implement and requires two input parameters only: **fundamental frequency** and **sampling rate**\n",
    "\n",
    "![dpw](images/dpw.png)\n",
    "![dpw2](images/dpw2.png)\n"
   ]
  },
  {
   "cell_type": "markdown",
   "metadata": {},
   "source": [
    "## FM(Frequency Modulation) synthesis\n",
    "\n",
    "- Dicovered by John Chowning in the 1960s.\n",
    "- It uses the same idea as in FM radio\n",
    "- A computationally cheap way to compute intriguing sounds\n",
    "- Still a very popular technique with new exciting products\n",
    "\n",
    "### Basics of FM synthesis\n",
    "\n",
    "- Very fast **vibrato** is applied to a sine wave(\"carrier\")\n",
    "- Vibrato generator is called \"modulator\"\n",
    "- Both signals are in the audio range\n",
    "- Number of harmonics is proportioal to modulation index $I$\n",
    "\n",
    "    - $x(t)=A \\sin \\left(w_{c} t+I \\sin \\left(w_{m} t\\right)\\right)$\n",
    "    \n",
    "- frequency components get mirrored, if they occur above the Nyquist frequency(aliasing) or below 0 Hz.\n",
    "- Inharmonic sounds when the frequency ratio between carrier and modulator is not an integer\n",
    "\n",
    "\n",
    "![fm_synthesis](images/fm_synthesis.png)"
   ]
  },
  {
   "cell_type": "code",
   "execution_count": null,
   "metadata": {},
   "outputs": [],
   "source": []
  }
 ],
 "metadata": {
  "kernelspec": {
   "display_name": "Python 3",
   "language": "python",
   "name": "python3"
  },
  "language_info": {
   "codemirror_mode": {
    "name": "ipython",
    "version": 3
   },
   "file_extension": ".py",
   "mimetype": "text/x-python",
   "name": "python",
   "nbconvert_exporter": "python",
   "pygments_lexer": "ipython3",
   "version": "3.6.8"
  }
 },
 "nbformat": 4,
 "nbformat_minor": 2
}
