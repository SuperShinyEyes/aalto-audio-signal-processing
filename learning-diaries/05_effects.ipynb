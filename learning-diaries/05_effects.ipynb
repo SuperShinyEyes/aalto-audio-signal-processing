{
 "cells": [
  {
   "cell_type": "markdown",
   "metadata": {},
   "source": [
    "# Digital Audio Effects Processing & Reverberation\n",
    "\n",
    "## Outline\n",
    "\n",
    "### Digital Audio Effects \n",
    "- Echo/delay\n",
    "- Flanging and Phasing\n",
    "- Chorus\n",
    "- Dynamic processing(compressiong & expansion)\n",
    "\n",
    "### Artificial Reverberation\n",
    "- Convolution\n",
    "- Schroeder and Moorer reverbs\n",
    "- Feedback delay network\n",
    "- Sparse noise reverb\n",
    "- Electromechanical reverb\n",
    "\n",
    "-----"
   ]
  },
  {
   "cell_type": "markdown",
   "metadata": {},
   "source": [
    "## What is an audio effect?\n",
    "- Any kind of audio signal processing applied to a recorded or synthesized sound for creative purposes\n",
    "- Possible purposes:\n",
    "    - Impression of space (echo, reverb)\n",
    "    - Increasing perceived size of a sound (chorus)\n",
    "    - Introducing movement into a static sound (flanging, phasing) \n",
    "    - Altering timbre (distortion)\n",
    "    - Altering dynamics (compression, limiting)\n",
    "\n",
    "## Echo/Delay\n",
    "- One of the simplest and earliest audio effects \n",
    "    - Initially they were made using tape loops\n",
    "- Digital version very simple \n",
    "    - Delay line with feedback\n",
    "    - Filtering or distortion can be added to the feedback loop \n",
    "    - Extra taps can be added for more complex pattern\n",
    "    - Real-time implementation using “circular buffer”.*\n",
    "    \n",
    "![echo_effect](images/echo_effect.png)"
   ]
  },
  {
   "cell_type": "markdown",
   "metadata": {},
   "source": [
    "## Flanging\n",
    "\n",
    "Invented by Les Paul (1915-2009) in 1945, but the name came from John Lennon in 1966 (http://en.wikipedia.org/wiki/Flanging)\n",
    "- Original analog method for flanging\n",
    "    - Copy the same sound on two open-reel tapes\n",
    "    - Play the 2 tapes on 2 synchronized tape machines \n",
    "    - Touch the flange of one tape reel to slow it down\n",
    "    - Get a nice 􏰝wooshing” phase-cancellation effect\n",
    "- Modern analog flanger pedals commonly use exotic Bucket- Brigade Device (BBD).\n",
    "\n",
    "Flanging is very common in real life:\n",
    "-C. Huygens (1693): the sound of a fountain has a pitch when it reflects from a staircase\n",
    "- Moving and hissing sound source (or listener moving)\n",
    "- Jet airplane flying over a city\n",
    "\n",
    "Flanging is direct sound and its echo: Time-varying delay\n",
    "![effect_flanging](images/effect_flanging.png)\n",
    "\n",
    "### Digital Flanger – Naive Version\n",
    "- A copy of the signal is fed through a variable digital delay line and added to the original\n",
    "- Produces a time-varying comb filter\n",
    "    - Magnitude response contains many uniformly spaced, moving notches\n",
    "\n",
    "![effect_flanging](images/effect_flanger.png)\n",
    "\n",
    "### Digital Flanger – Naive Version with LFO\n",
    "- Delay-line length is modulated with a Low Frequency Oscillator (LFO)\n",
    "    - Slow modulation frequency, approx 0.1 Hz – 1 Hz\n",
    "    \n",
    "![effect_flanging](images/effect_flanger_lfo.png)\n",
    "\n",
    "### Digital Flanger – Thru Zero\n",
    "- Problem with naive implementation\n",
    "    - Dry and delayed signal never coincide exactly\n",
    "    - Modulation no longer centered about point of max/min effect\n",
    "- Solution: Add a static delay to the dry/static path.\n",
    "\n",
    "![effect_flanging](images/effect_flanger_thru_zero.png)\n",
    "\n",
    "### Interpolated Variable Delay Line\n",
    "- In flanging, the delay-line length must vary smoothly to avoid discontinuities and clicks\n",
    "    - Otherwise “zipper noise” is produced \n",
    "    - A fractional delay is needed\n",
    "- Usually an FIR interpolation filter\n",
    "\n",
    "![effect_flanging](images/effect_flanging_interpolated_variable_delay.png)\n",
    "\n",
    "### Delay Line with Linear Interpolation\n",
    "- For digital audio effects, linear interpolation may be sufficiently good\n",
    "- Good idea for Learning Diary! (cough, cough)\n",
    "\n",
    "![effect_flanging](images/effect_flanging_delay_line_linear_interpolation.png)\n",
    "\n"
   ]
  },
  {
   "cell_type": "markdown",
   "metadata": {},
   "source": [
    "### Flanging vs. Phasing\n",
    "- Flanging\n",
    "    - Variable time-delay \n",
    "    - Short delay ( < 10ms) \n",
    "    - Hundreds of notches \n",
    "    - Notches harmonically related \n",
    "    - Number of notches is time-varying\n",
    "- Phasing\n",
    "    - Variable phase shift\n",
    "    - Very short delay\n",
    "    - Few notches (1-10)\n",
    "    - Notches not harmonic\n",
    "    - Notches can be individually modulated\n",
    "    - Number of notches is fixed"
   ]
  },
  {
   "cell_type": "markdown",
   "metadata": {},
   "source": [
    "### Chorus\n",
    "\n",
    "- The goal: make one source sound like many sources \n",
    "    - Useful for vocals and electrical instrument sounds\n",
    "- Very similar structure to flanger and echo effects\n",
    "\n",
    "![effects_chorus](images/effects_chorus.png)"
   ]
  },
  {
   "cell_type": "markdown",
   "metadata": {},
   "source": [
    "-------\n",
    "## Artificial Reverberation\n",
    "- Two main goals\n",
    "    1. Adding ambience for dry recordings\n",
    "        - Synthetic sounds and studio recordings are (almost) anechoic \n",
    "        - Sound post-production (e.g., films), computer game audio\n",
    "        - Auditory approach: sound effects\n",
    "    2. Simulation of room acoustics \n",
    "        - Virtualreality\n",
    "        - Physical approach: make more natural-sounding\n",
    "- In both cases, sound propagation in rooms is imitated\n",
    "    - Propagation delay, reflections from surfaces, decay caused by distance and air damping\n"
   ]
  },
  {
   "cell_type": "markdown",
   "metadata": {},
   "source": [
    "### Room Impulse Response (RIR)\n",
    "- Direct sound\n",
    "    - Speed of sound ≈ 345 m/s, delay usually about 10...200 ms\n",
    "- Early reflections\n",
    "    - Surfaces reflect, absorb, and scatter sound waves \n",
    "    - About 50...100 ms after the direct sound\n",
    "- Late reverberation\n",
    "\n",
    "![Room_Impulse_Response](images/Room_Impulse_Response.png)"
   ]
  },
  {
   "cell_type": "markdown",
   "metadata": {},
   "source": [
    "### Historical Artificial Reverberation\n",
    "- Demand for artificial reverberation predates digital technology\n",
    "- Two common early principles\n",
    "    1. **Echo Chambers** – specially designed rooms\n",
    "    2. **Electromechanical Reverb** – vibrating metal objects like springs and plate"
   ]
  },
  {
   "cell_type": "markdown",
   "metadata": {},
   "source": [
    "### Convolution Reverb\n",
    "- Measure and store impulse responses of real spaces\n",
    "    - A long FIR filter with RIR samples as coefficients (cf. sampling)\n",
    "- A “dry” musical signal is filtered with the FIR filter \n",
    "- Computationally intensive\n",
    "    - Example: A stereo impulse response of 2 seconds (fs = 50 kHz) \n",
    "        - 2 􏰟 100,000 multiplications / sample\n",
    "        - 1010 multiplications / s (= 10 GFLOPS) \n",
    "- Straightforward but limited\n",
    "    - Applicable to imitation of real spaces only\n",
    "    - RIRs difficult to measure and processing needed to clean them up (audible noise floor)\n",
    "    - Limited flexible control"
   ]
  },
  {
   "cell_type": "markdown",
   "metadata": {},
   "source": [
    "### Algorithmic Reverberation\n",
    "- Direct sound (perhaps with delay and attenuation)\n",
    "- Early reflections: a sparse FIR filter (Schroeder, 1970)\n",
    "    - A long delay line with some taps to model the reflections\n",
    "- Late reverberation: impulse response reminiscent of noise\n",
    "    - One option is to imitate it with an exponentially decaying noise burst\n",
    "    - Another option is an IIR structure employing long delay-lines and feedback\n",
    "    - Devising various techniques for this purpose is a popular sport (Schroeder 1962, Moorer 1979, Jot & Chaigne 1991, ... Välimäki et al., 2012)\n",
    "    \n",
    "![Algorithmic_Reverberation](images/Algorithmic_Reverberation.png)\n",
    "\n",
    "### Schroeder Reverb Algorithm\n",
    "- Schroeder (1962) developed the 1st reverb algorithm\n",
    "    - Four comb filters in parallel\n",
    "        - Different delays\n",
    "        - Loop gain < 1\n",
    "    - A few allpass-comb filters in cascade to spread the impulse\n",
    "    \n",
    "![Schroeder_Reverb](images/Schroeder_Reverb.png)\n",
    "\n",
    "### Moorer Reverb Algorithm\n",
    "- Moorer (1979) inserted a one-pole lowpass filter inside the comb filters: Lowpass-comb filter\n",
    "    - Long impulse response, where high frequencies decay faster than low frequencies\n",
    "    - More natural behavior \n",
    "    - Less 􏰝metallic􏰞 sound\n",
    "\n",
    "![Moorer_Reverb](images/Moorer_Reverb.png)\n",
    "\n",
    "### Moorer Reverb Algorithm (2)\n",
    "- More comb filters → Better reverberation\n",
    "- At least 6 lowpass-comb filters in parallel (Moorer, 1977)\n",
    "\n",
    "![Moorer_Reverb](images/Moorer_Reverb2.png)"
   ]
  },
  {
   "cell_type": "markdown",
   "metadata": {},
   "source": [
    "## Comparisons\n",
    "\n",
    "![flanging_vs_phasing](images/flanging_vs_phasing.png)\n",
    "\n",
    "![chorus_vs_flanging](images/chorus_vs_flanging.png)"
   ]
  }
 ],
 "metadata": {
  "kernelspec": {
   "display_name": "Python 3",
   "language": "python",
   "name": "python3"
  },
  "language_info": {
   "codemirror_mode": {
    "name": "ipython",
    "version": 3
   },
   "file_extension": ".py",
   "mimetype": "text/x-python",
   "name": "python",
   "nbconvert_exporter": "python",
   "pygments_lexer": "ipython3",
   "version": "3.6.8"
  }
 },
 "nbformat": 4,
 "nbformat_minor": 2
}
