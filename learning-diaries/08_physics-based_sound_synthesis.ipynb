{
 "cells": [
  {
   "cell_type": "markdown",
   "metadata": {},
   "source": [
    "# Physics-based Sound Synthesis\n",
    "\n",
    "## Motivation\n",
    "![taxonomy_sound_synthesis](images/taxonomy_sound_synthesis.png)\n",
    "There are four approaches for sound synthesis. Traditionally, \n",
    "\n",
    "### Karplus-Strong algorithm\n",
    "Karplus-Strong algorithm is an abstract algorithmic sound synthesis method.\n",
    "![karplus_strong](images/karplus_strong.png)\n",
    "**It's a self-modifying wavetable.** Wavetable is interpreted as a delay line, where the waveform propagates. Dullness is reduced considerably. Timbre and decay time depend on sampling rate\n",
    "\n",
    "\n",
    "\n",
    "#### Tuning problem\n",
    "\n",
    "High notes are **out of tune**: \n",
    "- $f=f_{S} /(L+0.5)$, where the half-sample delay is caused by averaging.\n",
    "- Wavetable length $L$ is rounded to the nearest integer\n",
    "\n",
    "![karplus_strong_tuning_problem](images/karplus_strong_tuning_problem.png)\n",
    "\n",
    "\n",
    "\n",
    "## Introduction of Sound Synthesis by Physical Modeling\n",
    "- Simulate the sound production mechanism\n",
    "    - In speech synthesis and coding, this is an old tradition\n",
    "- High-quality synthesis of string and wind instruments\n",
    "- **More sophisticated signal processing than earlier**\n",
    "    - Compared to subtractive synthesis, sampling & wavetable synthesis, FM synthesis\n",
    "    - Combines linear & nonlinear methods, filtering, sampling\n",
    "    - Considered computationally expensive"
   ]
  },
  {
   "cell_type": "markdown",
   "metadata": {},
   "source": [
    "## Calssification of methods\n",
    "\n",
    "1. Source-filter modeling\n",
    "    - Physically informed subtractive synthesis\n",
    "    - It's like an emulation of animal speech: the source signal is processed by a filter, e.g. a formant filter, and the resulting signal has a resonating structure such as a vocal tract or soundbox of an instrument. \n",
    "2. Finite Difference Modeling\n",
    "    - Discretized wave equation (difference equation)\n",
    "3. Mass-Spring Networks\n",
    "    - \"CORDIS-ANIMA\" by ACROE (Grenoble, France)\n",
    "4. Modal Synthesis\n",
    "    - \"Modalys\" software by IRCAM; formerly \"Mosaic\"\n",
    "    - The functional transform method by Trautmann and Rabenstein\n",
    "5. Wave Digital Filters\n",
    "    - Method to convert models of continuous-time systems into digital filters\n",
    "6. Digital Waveguide Synthesis\n",
    "    - Physical modeling using digital filters and delays; Main topic of this lecture"
   ]
  },
  {
   "cell_type": "markdown",
   "metadata": {},
   "source": [
    "## Digital waveguide modeling\n",
    "\n",
    "### Tuning with Fractional delay filter\n",
    "Fine-tunes the delay-line length so that the pitch is right\n",
    "\n",
    "### Tuning with Allpass filter\n",
    "First-order allpass filter usually. Transient problems in time-varying cases.\n",
    "- Phase delay of the first-order allpass filter at low frequencies(dc): $D=\\left(1-a_{1}\\right) /\\left(1+a_{1}\\right)$\n",
    "- Phase delay: $-\\phi(\\omega) / \\omega$\n",
    "    - Phase response divided by angular frequency\n",
    "- Solve $a_1$ for desired delay $D$: $a_{1}=\\frac{1-D}{1+D}$\n",
    "\n",
    "![tuning_all_pass](images/tuning_all_pass.png)"
   ]
  },
  {
   "cell_type": "markdown",
   "metadata": {},
   "source": [
    "### Tuning with Lagrange interpolation\n",
    "Order 3 or 4 is sufficient at 44.1 kHz. Linear interpolation(1st-order Lagrange) is not good enough because high frequencies will be damped.\n",
    "\n",
    "Example: 3rd-order Lagrange FD filter ($N=3$), which is a four-tap FIR filter:\n",
    "![tuning_with_lagrange_interpolation](images/tuning_with_lagrange_interpolation.png)\n",
    "\n",
    "Coefficient formulas for 3rd-order Lagrange FD filter ($1 < D<2$):\n",
    "$$\n",
    "\\begin{align}\n",
    "    h(0) &=-\\frac{1}{6}(D-1)(D-2)(D-3) \\\\\n",
    "    h(1) &=\\frac{1}{2} D(D-2)(D-3) \\\\\n",
    "    h(2) &=-\\frac{1}{2} D(D-1)(D-3) \\\\\n",
    "    h(3) &=\\frac{1}{6} D(D-1)(D-2)\n",
    "\\end{align}\n",
    "$$"
   ]
  },
  {
   "cell_type": "markdown",
   "metadata": {},
   "source": [
    "#### Loop filter\n",
    "- Loop filter $H_l(z)$ controls the decay rate of harmonics\n",
    "- One choice is a **one-pole filter**(\"leaky integrator\"): $H_{l}(z)=g \\frac{1+a_{1}}{1+a_{1} z^{-1}}$\n",
    "\n",
    "    - Parameter $g$ determines overall decay rate ($0 < g < 1$)\n",
    "    - Parameter $a_1$ determines frequency-dependent decay ($-1 < a_1 < 0$)\n",
    "\n",
    "#### \n",
    "\n",
    "#### "
   ]
  },
  {
   "cell_type": "markdown",
   "metadata": {},
   "source": [
    "## Modeling of stringed musical instruments\n",
    "Stringed instruments include both string and keyboard instruments such as guitar, harpsichord, piano, Clavinet and etc."
   ]
  },
  {
   "cell_type": "code",
   "execution_count": null,
   "metadata": {},
   "outputs": [],
   "source": []
  },
  {
   "cell_type": "markdown",
   "metadata": {},
   "source": [
    "## Conclusions\n",
    "\n",
    "- Several methods available for physics-based sound synthesis\n",
    "    - Source-filter, modal, mass-spring, FDTD, wave digital and digital waveguide models\n",
    "- Digital waveguide synthesis used to be the most popular method \n",
    "- Modal synthesis and FDTD methods have become more attractive thanks to faster computers"
   ]
  },
  {
   "cell_type": "code",
   "execution_count": null,
   "metadata": {},
   "outputs": [],
   "source": []
  }
 ],
 "metadata": {
  "kernelspec": {
   "display_name": "Python 3",
   "language": "python",
   "name": "python3"
  },
  "language_info": {
   "codemirror_mode": {
    "name": "ipython",
    "version": 3
   },
   "file_extension": ".py",
   "mimetype": "text/x-python",
   "name": "python",
   "nbconvert_exporter": "python",
   "pygments_lexer": "ipython3",
   "version": "3.6.8"
  }
 },
 "nbformat": 4,
 "nbformat_minor": 2
}
