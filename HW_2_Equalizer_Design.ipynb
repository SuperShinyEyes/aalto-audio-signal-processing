{
 "cells": [
  {
   "cell_type": "markdown",
   "metadata": {},
   "source": [
    "Your task is to design and implement a __two-band audio equalizer__ (i.e. a bass/treble basic tone control) using first-order __shelving filters__.\n",
    "\n",
    "You will investigate the __transfer function of the first-order low-pass shelving filter__ and its __complementary high-pass form__. __Cascading__ both filter sections will then produce a two-band audio equalizer. You must decide the range of each frequency band and justify your choice. Use a fixed sampling frequency fs = 44.1 kHz in all your work. \n",
    "\n",
    "Your submission should include: \n",
    "\n",
    "1. A description of the equalizer’s architecture, including the transfer function of each shelving filter, the parameters selected, and a __block diagram__ of the overall system. It is not permitted to use the Matlab's filter design functions in the final submission.\n",
    "\n",
    "2. __Magnitude response plots__ for each individual filter as well as the combined response of the equalizer for different gain parameters. For example, set the bass and treble gains at GLP = 6 dB and GHP = −3 dB, respectively. What is the magnitude response of each filter? What about the overall output response? Modify the bass and gain levels, what does the response look like now? \n",
    "\n",
    "3. A Matlab implementation of the equalizer (thoroughly commented) and all required files to run the script. For example, if your script is using a wav file as input, it should be included.\n",
    "\n",
    "4. References to any sources consulted for this work. \n",
    "\n",
    "All submitted plots must have all axes labelled. If you are plotting multiple responses in the same figure please use different line colors and Matlab’s legend function to indicate which line is which. All __frequency-domain figures should be plotted using logarithmic__ scale for the x-axis and decibels for the y-axis. Return your work via MyCourses at the latest on Wednesday February 6, 2019 at 16:00. Make sure you attach all the necessary filters required to evaluate your submission"
   ]
  }
 ],
 "metadata": {
  "kernelspec": {
   "display_name": "Python 3",
   "language": "python",
   "name": "python3"
  },
  "language_info": {
   "codemirror_mode": {
    "name": "ipython",
    "version": 3
   },
   "file_extension": ".py",
   "mimetype": "text/x-python",
   "name": "python",
   "nbconvert_exporter": "python",
   "pygments_lexer": "ipython3",
   "version": "3.6.8"
  }
 },
 "nbformat": 4,
 "nbformat_minor": 2
}
